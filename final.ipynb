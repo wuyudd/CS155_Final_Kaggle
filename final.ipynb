{
 "cells": [
  {
   "cell_type": "code",
   "execution_count": 1,
   "metadata": {},
   "outputs": [],
   "source": [
    "import csv\n",
    "import numpy as np\n",
    "import pandas as pd\n",
    "import matplotlib.pyplot as plt\n",
    "from sklearn import linear_model, metrics, ensemble, svm\n",
    "from sklearn import model_selection\n",
    "from xgboost import XGBClassifier, XGBRegressor\n",
    "from sklearn.model_selection import KFold, GridSearchCV\n",
    "import os\n",
    "os.environ['KMP_DUPLICATE_LIB_OK']='True'"
   ]
  },
  {
   "cell_type": "code",
   "execution_count": 2,
   "metadata": {},
   "outputs": [],
   "source": [
    "def read_file(filename):\n",
    "    raw_data = pd.read_csv(filename)\n",
    "    data = raw_data.copy()\n",
    "    return data\n"
   ]
  },
  {
   "cell_type": "code",
   "execution_count": 3,
   "metadata": {},
   "outputs": [
    {
     "name": "stdout",
     "output_type": "stream",
     "text": [
      "X_train shape =  (56490, 26)\n",
      "y_train shape =  (56490,)\n",
      "X_test =  (37661, 26)\n"
     ]
    }
   ],
   "source": [
    "# read in train and test data -> X_train, y_train, X_test (pd.df)\n",
    "X_train_path = \"X_train.csv\"\n",
    "y_train_path = \"y_train.csv\"\n",
    "X_test_path = \"X_test.csv\"\n",
    "\n",
    "X_train_data = read_file(X_train_path)\n",
    "y_train_data = read_file(y_train_path)\n",
    "X_test_data = read_file(X_test_path)\n",
    "\n",
    "X_train = X_train_data.values\n",
    "y_train = np.ravel(y_train_data.values)\n",
    "X_test = X_test_data.values\n",
    "print(\"X_train shape = \", X_train.shape)\n",
    "print(\"y_train shape = \", y_train.shape)\n",
    "print(\"X_test = \", X_test.shape)"
   ]
  },
  {
   "cell_type": "code",
   "execution_count": 4,
   "metadata": {},
   "outputs": [],
   "source": [
    "# preprocessing\n",
    "# drop same_val feature\n",
    "def select_same_val_features(X_train_data):\n",
    "    same_val_features = []\n",
    "    for feature in X_train_data.columns:\n",
    "        if len(np.unique(X_train_data[feature])) == 1:\n",
    "            same_val_features.append(feature)\n",
    "    return same_val_features"
   ]
  },
  {
   "cell_type": "code",
   "execution_count": 5,
   "metadata": {},
   "outputs": [
    {
     "name": "stdout",
     "output_type": "stream",
     "text": [
      "X_train_drop shape =  (56490, 22)\n",
      "X_test_drop shape =  (37661, 22)\n",
      "Number of same value features =  4\n",
      "Same Value Features =  ['EnterQueueTimestamp_year', 'EnterQueueTimestamp_month', 'EnterQueueTimestamp_day', 'party_size']\n"
     ]
    }
   ],
   "source": [
    "# drop same_val feature\n",
    "same_val_features = select_same_val_features(X_train_data)\n",
    "X_train_data_drop = X_train_data.drop(same_val_features, axis=1)\n",
    "X_train_drop = X_train_data_drop.values\n",
    "print(\"X_train_drop shape = \", X_train_drop.shape)\n",
    "X_test_data_drop = X_test_data.drop(same_val_features, axis=1)\n",
    "X_test_drop = X_test_data_drop.values\n",
    "print(\"X_test_drop shape = \", X_test_drop.shape)\n",
    "\n",
    "print(\"Number of same value features = \", len(same_val_features))\n",
    "print(\"Same Value Features = \", same_val_features)\n"
   ]
  },
  {
   "cell_type": "code",
   "execution_count": 27,
   "metadata": {},
   "outputs": [],
   "source": [
    "def cross_validation(X_train, y_train, num_folds, clf):\n",
    "    kf = model_selection.KFold(n_splits=num_folds)\n",
    "    train_mse_ls = []\n",
    "    valid_mse_ls = []\n",
    "    for train_index, valid_index in kf.split(X_train):\n",
    "        print(\"...START...\")\n",
    "        print(\"TRAIN: \", train_index, \"VALIDATION: \", valid_index)\n",
    "        X_train_cv, X_valid_cv = X_train[train_index], X_train[valid_index]\n",
    "        y_train_cv, y_valid_cv = y_train[train_index], y_train[valid_index]\n",
    "        \n",
    "        clf.fit(X_train_cv, y_train_cv)\n",
    "        y_train_cv_pred_raw = clf.predict(X_train_cv)#[:, 1]\n",
    "        \n",
    "        y_train_cv_pred = []\n",
    "        for val in y_train_cv_pred_raw:\n",
    "            if val < 0:\n",
    "                y_train_cv_pred.append(0)\n",
    "            else:\n",
    "                y_train_cv_pred.append(val)\n",
    "                \n",
    "#         print(\"y_train_cv_pred = \", y_train_cv_pred)\n",
    "#         print(\"y_train_cv = \", y_train_cv)\n",
    "        y_valid_cv_pred_raw = clf.predict(X_valid_cv)#[:, 1]\n",
    "        \n",
    "        y_valid_cv_pred = []\n",
    "        for val in y_valid_cv_pred_raw:\n",
    "            if val < 0:\n",
    "                y_valid_cv_pred.append(0)\n",
    "            else:\n",
    "                y_valid_cv_pred.append(val)\n",
    "                \n",
    "#         print(\"y_valid_cv_pred = \", y_valid_cv_pred)\n",
    "#         print(\"y_valid_cv = \", y_valid_cv)\n",
    "        train_cv_mse = metrics.mean_squared_error(y_train_cv, np.asarray(y_train_cv_pred))\n",
    "        valid_cv_mse = metrics.mean_squared_error(y_valid_cv, np.asarray(y_valid_cv_pred))\n",
    "        train_mse_ls.append(train_cv_mse)\n",
    "        valid_mse_ls.append(valid_cv_mse)\n",
    "        print(\"...END...\")\n",
    "    return train_mse_ls, valid_mse_ls"
   ]
  },
  {
   "cell_type": "code",
   "execution_count": 28,
   "metadata": {},
   "outputs": [
    {
     "name": "stdout",
     "output_type": "stream",
     "text": [
      "...START...\n",
      "TRAIN:  [18830 18831 18832 ... 56487 56488 56489] VALIDATION:  [    0     1     2 ... 18827 18828 18829]\n",
      "...END...\n",
      "...START...\n",
      "TRAIN:  [    0     1     2 ... 56487 56488 56489] VALIDATION:  [18830 18831 18832 ... 37657 37658 37659]\n",
      "...END...\n",
      "...START...\n",
      "TRAIN:  [    0     1     2 ... 37657 37658 37659] VALIDATION:  [37660 37661 37662 ... 56487 56488 56489]\n",
      "...END...\n",
      "train_mse_ls:  [559.9250693455259, 693.660314403961, 840.1398341667862]\n",
      "valid_mse_ls:  [2552.805180999344, 1698.9049293187445, 1593.022756202818]\n"
     ]
    }
   ],
   "source": [
    "clf_xgb = XGBRegressor(n_estimators=150, scale_pos_weight=1, learning_rate=0.05, max_depth=9, gamma=0.1)\n",
    "#clf_svm = svm.SVR()\n",
    "num_folds = 3\n",
    "train_mse_ls, valid_mse_ls = cross_validation(X_train_drop, y_train, num_folds, clf_xgb)\n",
    "#train_mse_ls, valid_mse_ls = cross_validation(X_train, y_train, num_folds, clf_svm)\n",
    "print(\"train_mse_ls: \", train_mse_ls)\n",
    "print(\"valid_mse_ls: \", valid_mse_ls)"
   ]
  },
  {
   "cell_type": "code",
   "execution_count": 29,
   "metadata": {},
   "outputs": [
    {
     "name": "stdout",
     "output_type": "stream",
     "text": [
      "...START...\n",
      "TRAIN:  [18830 18831 18832 ... 56487 56488 56489] VALIDATION:  [    0     1     2 ... 18827 18828 18829]\n",
      "...END...\n",
      "...START...\n",
      "TRAIN:  [    0     1     2 ... 56487 56488 56489] VALIDATION:  [18830 18831 18832 ... 37657 37658 37659]\n",
      "...END...\n",
      "...START...\n",
      "TRAIN:  [    0     1     2 ... 37657 37658 37659] VALIDATION:  [37660 37661 37662 ... 56487 56488 56489]\n",
      "...END...\n",
      "train_mse_ls:  [644.9328506173135, 767.956621200982, 936.2239656322879]\n",
      "valid_mse_ls:  [2594.872704474678, 1679.8380947648252, 1532.859433265189]\n"
     ]
    }
   ],
   "source": [
    "clf_xgb = XGBRegressor(n_estimators=100, scale_pos_weight=1, learning_rate=0.05, max_depth=9, gamma=0.1)\n",
    "#clf_svm = svm.SVR()\n",
    "num_folds = 3\n",
    "train_mse_ls, valid_mse_ls = cross_validation(X_train_drop, y_train, num_folds, clf_xgb)\n",
    "#train_mse_ls, valid_mse_ls = cross_validation(X_train, y_train, num_folds, clf_svm)\n",
    "print(\"train_mse_ls: \", train_mse_ls)\n",
    "print(\"valid_mse_ls: \", valid_mse_ls)"
   ]
  },
  {
   "cell_type": "code",
   "execution_count": 30,
   "metadata": {},
   "outputs": [
    {
     "name": "stdout",
     "output_type": "stream",
     "text": [
      "...START...\n",
      "TRAIN:  [18830 18831 18832 ... 56487 56488 56489] VALIDATION:  [    0     1     2 ... 18827 18828 18829]\n",
      "...END...\n",
      "...START...\n",
      "TRAIN:  [    0     1     2 ... 56487 56488 56489] VALIDATION:  [18830 18831 18832 ... 37657 37658 37659]\n",
      "...END...\n",
      "...START...\n",
      "TRAIN:  [    0     1     2 ... 37657 37658 37659] VALIDATION:  [37660 37661 37662 ... 56487 56488 56489]\n",
      "...END...\n",
      "train_mse_ls:  [861.6924683089522, 1019.8557037325935, 1230.180519415691]\n",
      "valid_mse_ls:  [2885.6060241144887, 1724.390159267831, 1299.2558128419853]\n"
     ]
    }
   ],
   "source": [
    "clf_xgb = XGBRegressor(n_estimators=50, scale_pos_weight=1, learning_rate=0.05, max_depth=9, gamma=0.2)\n",
    "#clf_svm = svm.SVR()\n",
    "num_folds = 3\n",
    "train_mse_ls, valid_mse_ls = cross_validation(X_train_drop, y_train, num_folds, clf_xgb)\n",
    "#train_mse_ls, valid_mse_ls = cross_validation(X_train, y_train, num_folds, clf_svm)\n",
    "print(\"train_mse_ls: \", train_mse_ls)\n",
    "print(\"valid_mse_ls: \", valid_mse_ls)"
   ]
  },
  {
   "cell_type": "code",
   "execution_count": 31,
   "metadata": {},
   "outputs": [
    {
     "name": "stdout",
     "output_type": "stream",
     "text": [
      "...START...\n",
      "TRAIN:  [18830 18831 18832 ... 56487 56488 56489] VALIDATION:  [    0     1     2 ... 18827 18828 18829]\n",
      "...END...\n",
      "...START...\n",
      "TRAIN:  [    0     1     2 ... 56487 56488 56489] VALIDATION:  [18830 18831 18832 ... 37657 37658 37659]\n",
      "...END...\n",
      "...START...\n",
      "TRAIN:  [    0     1     2 ... 37657 37658 37659] VALIDATION:  [37660 37661 37662 ... 56487 56488 56489]\n",
      "...END...\n",
      "train_mse_ls:  [695.5376312092498, 859.2628731063197, 1010.8574991063492]\n",
      "valid_mse_ls:  [2621.8701666072025, 1656.2020963861294, 1480.4010649847783]\n"
     ]
    }
   ],
   "source": [
    "clf_xgb = XGBRegressor(n_estimators=100, learning_rate=0.05, max_depth=8, gamma=0.3, missing=-1)\n",
    "#clf_svm = svm.SVR()\n",
    "num_folds = 3\n",
    "train_mse_ls, valid_mse_ls = cross_validation(X_train_drop, y_train, num_folds, clf_xgb)\n",
    "#train_mse_ls, valid_mse_ls = cross_validation(X_train, y_train, num_folds, clf_svm)\n",
    "print(\"train_mse_ls: \", train_mse_ls)\n",
    "print(\"valid_mse_ls: \", valid_mse_ls)"
   ]
  },
  {
   "cell_type": "code",
   "execution_count": 32,
   "metadata": {},
   "outputs": [
    {
     "name": "stdout",
     "output_type": "stream",
     "text": [
      "...START...\n",
      "TRAIN:  [18830 18831 18832 ... 56487 56488 56489] VALIDATION:  [    0     1     2 ... 18827 18828 18829]\n",
      "...END...\n",
      "...START...\n",
      "TRAIN:  [    0     1     2 ... 56487 56488 56489] VALIDATION:  [18830 18831 18832 ... 37657 37658 37659]\n",
      "...END...\n",
      "...START...\n",
      "TRAIN:  [    0     1     2 ... 37657 37658 37659] VALIDATION:  [37660 37661 37662 ... 56487 56488 56489]\n",
      "...END...\n",
      "train_mse_ls:  [613.4631889964663, 759.469481410852, 920.642671391934]\n",
      "valid_mse_ls:  [2608.044219470907, 1712.7809339430794, 1500.8437273240029]\n"
     ]
    }
   ],
   "source": [
    "clf_xgb = XGBRegressor(n_estimators=100, scale_pos_weight=1, learning_rate=0.05, max_depth=9, gamma=0.1, missing=-1)\n",
    "#clf_svm = svm.SVR()\n",
    "num_folds = 3\n",
    "train_mse_ls, valid_mse_ls = cross_validation(X_train_drop, y_train, num_folds, clf_xgb)\n",
    "#train_mse_ls, valid_mse_ls = cross_validation(X_train, y_train, num_folds, clf_svm)\n",
    "print(\"train_mse_ls: \", train_mse_ls)\n",
    "print(\"valid_mse_ls: \", valid_mse_ls)"
   ]
  },
  {
   "cell_type": "code",
   "execution_count": 33,
   "metadata": {},
   "outputs": [],
   "source": [
    "number = 1\n",
    "clf_xgb = XGBRegressor(n_estimators=100, scale_pos_weight=1, learning_rate=0.05, max_depth=9, gamma=0.1)\n",
    "clf_xgb.fit(X_train_drop, y_train)\n",
    "y_test_pred_raw = clf_xgb.predict(X_test_drop)#[:, 1]\n",
    "y_test_pred = []\n",
    "for val in y_test_pred_raw:\n",
    "    if val < 0:\n",
    "        y_test_pred.append(0)\n",
    "    else:\n",
    "        y_test_pred.append(val)\n"
   ]
  },
  {
   "cell_type": "code",
   "execution_count": 34,
   "metadata": {},
   "outputs": [],
   "source": [
    "pd.DataFrame(np.asarray(y_test_pred)).to_csv(str(number) + \".csv\")"
   ]
  },
  {
   "cell_type": "code",
   "execution_count": null,
   "metadata": {},
   "outputs": [],
   "source": []
  }
 ],
 "metadata": {
  "kernelspec": {
   "display_name": "Python 3",
   "language": "python",
   "name": "python3"
  },
  "language_info": {
   "codemirror_mode": {
    "name": "ipython",
    "version": 3
   },
   "file_extension": ".py",
   "mimetype": "text/x-python",
   "name": "python",
   "nbconvert_exporter": "python",
   "pygments_lexer": "ipython3",
   "version": "3.6.8"
  }
 },
 "nbformat": 4,
 "nbformat_minor": 2
}
