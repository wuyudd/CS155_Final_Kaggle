{
 "cells": [
  {
   "cell_type": "code",
   "execution_count": 1,
   "metadata": {},
   "outputs": [],
   "source": [
    "import csv\n",
    "import numpy as np\n",
    "import pandas as pd\n",
    "import matplotlib.pyplot as plt\n",
    "from sklearn import linear_model, metrics, ensemble, svm\n",
    "from sklearn import model_selection\n",
    "from xgboost import XGBClassifier, XGBRegressor\n",
    "from sklearn.model_selection import KFold, GridSearchCV\n",
    "import os\n",
    "os.environ['KMP_DUPLICATE_LIB_OK']='True'"
   ]
  },
  {
   "cell_type": "code",
   "execution_count": 2,
   "metadata": {},
   "outputs": [],
   "source": [
    "def read_file(filename):\n",
    "    raw_data = pd.read_csv(filename)\n",
    "    data = raw_data.copy()\n",
    "    return data\n"
   ]
  },
  {
   "cell_type": "code",
   "execution_count": 3,
   "metadata": {},
   "outputs": [
    {
     "name": "stdout",
     "output_type": "stream",
     "text": [
      "X_train shape =  (56490, 26)\n",
      "y_train shape =  (56490,)\n",
      "X_test =  (37661, 26)\n"
     ]
    }
   ],
   "source": [
    "# read in train and test data -> X_train, y_train, X_test (pd.df)\n",
    "X_train_path = \"X_train.csv\"\n",
    "y_train_path = \"y_train.csv\"\n",
    "X_test_path = \"X_test.csv\"\n",
    "\n",
    "X_train_data = read_file(X_train_path)\n",
    "y_train_data = read_file(y_train_path)\n",
    "X_test_data = read_file(X_test_path)\n",
    "\n",
    "X_train = X_train_data.values\n",
    "y_train = np.ravel(y_train_data.values)\n",
    "X_test = X_test_data.values\n",
    "print(\"X_train shape = \", X_train.shape)\n",
    "print(\"y_train shape = \", y_train.shape)\n",
    "print(\"X_test = \", X_test.shape)"
   ]
  },
  {
   "cell_type": "code",
   "execution_count": 4,
   "metadata": {},
   "outputs": [],
   "source": [
    "# preprocessing\n",
    "# drop same_val feature\n",
    "def select_same_val_features(X_train_data):\n",
    "    same_val_features = []\n",
    "    for feature in X_train_data.columns:\n",
    "        if len(np.unique(X_train_data[feature])) == 1:\n",
    "            same_val_features.append(feature)\n",
    "    return same_val_features"
   ]
  },
  {
   "cell_type": "code",
   "execution_count": 5,
   "metadata": {},
   "outputs": [],
   "source": [
    "# handle missing value\n",
    "def missing_to_NaN(X_train_data):\n",
    "    for feature in X_train_data.columns:\n",
    "        X_train_data[feature] = X_train_data[feature].apply(lambda x: np.NaN if (x == -1) else x)\n",
    "        X_test_data[feature] = X_test_data[feature].apply(lambda x: np.NaN if (x == -1) else x)"
   ]
  },
  {
   "cell_type": "code",
   "execution_count": 6,
   "metadata": {},
   "outputs": [],
   "source": [
    "# features = []"
   ]
  },
  {
   "cell_type": "code",
   "execution_count": 7,
   "metadata": {
    "scrolled": false
   },
   "outputs": [
    {
     "name": "stdout",
     "output_type": "stream",
     "text": [
      "X_train_drop shape =  (56490, 22)\n",
      "X_train_drop_ps shape =  (56490, 20)\n",
      "X_test_drop shape =  (37661, 22)\n",
      "X_test_drop_ps shape =  (37661, 20)\n",
      "Number of same value features =  4\n",
      "Same Value Features =  ['EnterQueueTimestamp_year', 'EnterQueueTimestamp_month', 'EnterQueueTimestamp_day', 'party_size']\n"
     ]
    }
   ],
   "source": [
    "# missing values\n",
    "# missing_to_NaN(X_train_data)\n",
    "# missing_to_NaN(X_test_data)\n",
    "# drop same_val feature\n",
    "same_val_features = select_same_val_features(X_train_data)\n",
    "\n",
    "X_train_data_drop = X_train_data.drop(same_val_features, axis=1)\n",
    "X_train_drop = X_train_data_drop.values\n",
    "print(\"X_train_drop shape = \", X_train_drop.shape)\n",
    "\n",
    "X_train_data_drop_ps = X_train_data_drop.drop([\"entering_host\", \"time_to_confirm\"], axis=1)\n",
    "\n",
    "X_train_drop_ps = X_train_data_drop_ps.values\n",
    "print(\"X_train_drop_ps shape = \", X_train_drop_ps.shape)\n",
    "\n",
    "X_test_data_drop = X_test_data.drop(same_val_features, axis=1)\n",
    "X_test_drop = X_test_data_drop.values\n",
    "print(\"X_test_drop shape = \", X_test_drop.shape)\n",
    "\n",
    "X_test_data_drop_ps = X_test_data_drop.drop([\"entering_host\", \"time_to_confirm\"], axis=1)\n",
    "X_test_drop_ps = X_test_data_drop_ps.values\n",
    "print(\"X_test_drop_ps shape = \", X_test_drop_ps.shape)\n",
    "\n",
    "print(\"Number of same value features = \", len(same_val_features))\n",
    "print(\"Same Value Features = \", same_val_features)\n"
   ]
  },
  {
   "cell_type": "code",
   "execution_count": null,
   "metadata": {},
   "outputs": [],
   "source": []
  },
  {
   "cell_type": "code",
   "execution_count": 8,
   "metadata": {},
   "outputs": [],
   "source": [
    "def cross_validation(X_train, y_train, num_folds, clf):\n",
    "    kf = model_selection.KFold(n_splits=num_folds)\n",
    "    train_mse_ls = []\n",
    "    valid_mse_ls = []\n",
    "    for train_index, valid_index in kf.split(X_train):\n",
    "        #print(\"...START...\")\n",
    "        #print(\"TRAIN: \", train_index, \"VALIDATION: \", valid_index)\n",
    "        X_train_cv, X_valid_cv = X_train[train_index], X_train[valid_index]\n",
    "        y_train_cv, y_valid_cv = y_train[train_index], y_train[valid_index]\n",
    "        \n",
    "        clf.fit(X_train_cv, y_train_cv)\n",
    "        y_train_cv_pred_raw = clf.predict(X_train_cv)#[:, 1]\n",
    "        \n",
    "        y_train_cv_pred = []\n",
    "        for val in y_train_cv_pred_raw:\n",
    "            if val < 0:\n",
    "                y_train_cv_pred.append(0)\n",
    "            else:\n",
    "                y_train_cv_pred.append(val)\n",
    "                \n",
    "#         print(\"y_train_cv_pred = \", y_train_cv_pred)\n",
    "#         print(\"y_train_cv = \", y_train_cv)\n",
    "        y_valid_cv_pred_raw = clf.predict(X_valid_cv)#[:, 1]\n",
    "        \n",
    "        y_valid_cv_pred = []\n",
    "        for val in y_valid_cv_pred_raw:\n",
    "            if val < 0:\n",
    "                y_valid_cv_pred.append(0)\n",
    "            else:\n",
    "                y_valid_cv_pred.append(val)\n",
    "                \n",
    "#         print(\"y_valid_cv_pred = \", y_valid_cv_pred)\n",
    "#         print(\"y_valid_cv = \", y_valid_cv)\n",
    "        train_cv_mse = metrics.mean_squared_error(y_train_cv, np.asarray(y_train_cv_pred))\n",
    "        valid_cv_mse = metrics.mean_squared_error(y_valid_cv, np.asarray(y_valid_cv_pred))\n",
    "        train_mse_ls.append(train_cv_mse)\n",
    "        valid_mse_ls.append(valid_cv_mse)\n",
    "        #print(\"...END...\")\n",
    "    return train_mse_ls, valid_mse_ls"
   ]
  },
  {
   "cell_type": "code",
   "execution_count": 12,
   "metadata": {},
   "outputs": [
    {
     "name": "stdout",
     "output_type": "stream",
     "text": [
      "----------------------------\n",
      "CURRENT n_estimators =  10\n",
      "train_mse_ls:  [2275.2910087020114, 2157.4203788918003, 2328.062652689648, 2482.756023905037, 2668.5192381256643]\n",
      "valid_mse_ls:  [3424.105623468512, 4587.6670251919395, 3094.612611513153, 1502.4322924449034, 1449.101738581878]\n",
      "----------------------------\n",
      "----------------------------\n",
      "CURRENT n_estimators =  20\n",
      "train_mse_ls:  [1190.0096874320736, 1195.1541080644702, 1264.1269059822755, 1305.6386194410288, 1397.9359231164055]\n",
      "valid_mse_ls:  [2369.119999121446, 2762.7867336554636, 1834.5991671981076, 1155.9275613413315, 1169.0285580305015]\n",
      "----------------------------\n",
      "----------------------------\n",
      "CURRENT n_estimators =  30\n",
      "train_mse_ls:  [934.4213820980466, 982.6975991511996, 1030.5582936347776, 1032.5352743640055, 1127.3170986155396]\n",
      "valid_mse_ls:  [2186.008997495155, 2326.805686849829, 1558.1842626148796, 1243.6708430057167, 1270.9896588132583]\n",
      "----------------------------\n",
      "----------------------------\n",
      "CURRENT n_estimators =  50\n",
      "train_mse_ls:  [783.0773940337067, 819.3892380630248, 854.5545424992545, 866.8899537334673, 940.8166064316088]\n",
      "valid_mse_ls:  [2125.9901232259617, 2214.903286459356, 1459.495885556832, 1383.4961474236172, 1420.4824210111863]\n",
      "----------------------------\n",
      "----------------------------\n",
      "CURRENT n_estimators =  100\n",
      "train_mse_ls:  [636.3593842040974, 663.7945808023615, 712.7198779827222, 727.7452884218046, 792.8759126501232]\n",
      "valid_mse_ls:  [2129.8464669125055, 2269.0106240834953, 1447.9998072593537, 1505.5489829866542, 1480.3758340475956]\n",
      "----------------------------\n",
      "----------------------------\n",
      "CURRENT n_estimators =  120\n",
      "train_mse_ls:  [603.0576275891945, 624.0339134750234, 688.5142614226168, 685.3474833744308, 752.0235223576504]\n",
      "valid_mse_ls:  [2138.9671948584737, 2282.2195998771363, 1448.7659358478775, 1528.2892682508882, 1483.9108509671728]\n",
      "----------------------------\n",
      "----------------------------\n",
      "CURRENT n_estimators =  150\n",
      "train_mse_ls:  [558.5381230217795, 586.4844685982365, 625.0255194769475, 641.1599536395412, 701.9876467549079]\n",
      "valid_mse_ls:  [2150.0068511640466, 2290.369909066326, 1454.0869443888664, 1555.253607712651, 1473.680077222718]\n",
      "----------------------------\n"
     ]
    }
   ],
   "source": [
    "num_estimators = [10, 20, 30, 50, 100, 120, 150]\n",
    "for n in num_estimators:\n",
    "    clf_xgb = XGBRegressor(n_estimators=n, scale_pos_weight=1, learning_rate=0.1, max_depth=9, gamma=0.1)\n",
    "    #clf_svm = svm.SVR()\n",
    "    num_folds = 5\n",
    "    train_mse_ls, valid_mse_ls = cross_validation(X_train_drop, y_train, num_folds, clf_xgb)\n",
    "    #train_mse_ls, valid_mse_ls = cross_validation(X_train, y_train, num_folds, clf_svm)\n",
    "    print(\"----------------------------\")\n",
    "    print(\"CURRENT n_estimators = \", n)\n",
    "    print(\"train_mse_ls: \", train_mse_ls)\n",
    "    print(\"valid_mse_ls: \", valid_mse_ls)\n",
    "    print(\"----------------------------\")"
   ]
  },
  {
   "cell_type": "code",
   "execution_count": 10,
   "metadata": {},
   "outputs": [
    {
     "name": "stdout",
     "output_type": "stream",
     "text": [
      "----------------------------\n",
      "CURRENT max_depth =  3\n",
      "train_mse_ls:  [1481.2814239394097, 1530.5443540260144, 1619.7876757495205, 1730.9168986170403, 1783.1940661031956]\n",
      "valid_mse_ls:  [2597.4419198036167, 2633.7097903355257, 1978.5778501262707, 1360.9834408848499, 1357.7919989341274]\n",
      "----------------------------\n",
      "----------------------------\n",
      "CURRENT max_depth =  5\n",
      "train_mse_ls:  [1151.3912448231383, 1194.7335682412581, 1254.1986865847778, 1337.7904111063851, 1372.9786173530933]\n",
      "valid_mse_ls:  [2283.682678926802, 2377.7289268200398, 1696.051575985479, 1295.2740457500872, 1310.8100566016024]\n",
      "----------------------------\n",
      "----------------------------\n",
      "CURRENT max_depth =  7\n",
      "train_mse_ls:  [937.6410911332791, 981.9601695570608, 1036.7970713719224, 1031.368320409267, 1096.1725572156142]\n",
      "valid_mse_ls:  [2170.8070080134166, 2240.477229800002, 1663.287069064007, 1311.164217483118, 1443.2380652898669]\n",
      "----------------------------\n",
      "----------------------------\n",
      "CURRENT max_depth =  9\n",
      "train_mse_ls:  [769.3133652619117, 797.6651275778744, 858.3917018435485, 850.5648892651699, 916.6962819881172]\n",
      "valid_mse_ls:  [2150.9777251920755, 2298.3039385791976, 1624.4705971727412, 1441.893416644834, 1395.6849443885744]\n",
      "----------------------------\n"
     ]
    }
   ],
   "source": [
    "max_depths = [3, 5, 7, 9]\n",
    "for m in max_depths:\n",
    "    clf_xgb = XGBRegressor(n_estimators=50, scale_pos_weight=1, learning_rate=0.1, max_depth=m, gamma=0.1)\n",
    "    num_folds = 5\n",
    "    train_mse_ls, valid_mse_ls = cross_validation(X_train_drop, y_train, num_folds, clf_xgb)\n",
    "    print(\"----------------------------\")\n",
    "    print(\"CURRENT max_depth = \", m)\n",
    "    print(\"train_mse_ls: \", train_mse_ls)\n",
    "    print(\"valid_mse_ls: \", valid_mse_ls)\n",
    "    print(\"----------------------------\")"
   ]
  },
  {
   "cell_type": "code",
   "execution_count": 13,
   "metadata": {},
   "outputs": [
    {
     "name": "stdout",
     "output_type": "stream",
     "text": [
      "----------------------------\n",
      "CURRENT gamma =  0\n",
      "train_mse_ls:  [937.6410618219718, 981.9602998318221, 1030.672073652913, 1031.368320409267, 1096.1725572156142]\n",
      "valid_mse_ls:  [2170.806946458576, 2240.475868757172, 1673.319448580219, 1311.164217483118, 1443.2380652898669]\n",
      "----------------------------\n",
      "----------------------------\n",
      "CURRENT gamma =  0.1\n",
      "train_mse_ls:  [937.6410911332791, 981.9601695570608, 1036.7970713719224, 1031.368320409267, 1096.1725572156142]\n",
      "valid_mse_ls:  [2170.8070080134166, 2240.477229800002, 1663.287069064007, 1311.164217483118, 1443.2380652898669]\n",
      "----------------------------\n",
      "----------------------------\n",
      "CURRENT gamma =  0.2\n",
      "train_mse_ls:  [937.6410911332791, 981.9601695570608, 1036.79739794318, 1031.3683486635423, 1096.1725572156142]\n",
      "valid_mse_ls:  [2170.8070080134166, 2240.477229800002, 1663.2871358061682, 1311.1641242120943, 1443.2380652898669]\n",
      "----------------------------\n",
      "----------------------------\n",
      "CURRENT gamma =  0.3\n",
      "train_mse_ls:  [937.6410378769874, 981.9601695570608, 1036.79739794318, 1031.3683486635423, 1097.8093303828873]\n",
      "valid_mse_ls:  [2170.8060135077717, 2240.477229800002, 1663.2871358061682, 1311.1641242120943, 1430.3421183342161]\n",
      "----------------------------\n",
      "----------------------------\n",
      "CURRENT gamma =  0.5\n",
      "train_mse_ls:  [937.6410378769874, 981.9601139646317, 1036.7973979462995, 1031.3683486635423, 1097.8081273376736]\n",
      "valid_mse_ls:  [2170.8060135077717, 2240.476653870968, 1663.2871248309611, 1311.1641242120943, 1430.3445733337744]\n",
      "----------------------------\n"
     ]
    }
   ],
   "source": [
    "gammas = [0, 0.1, 0.2, 0.3, 0.5]\n",
    "for ga in gammas:\n",
    "    clf_xgb = XGBRegressor(n_estimators=50, learning_rate=0.1, max_depth=3, gamma=ga)\n",
    "    #clf_svm = svm.SVR()\n",
    "    num_folds = 5\n",
    "    train_mse_ls, valid_mse_ls = cross_validation(X_train_drop, y_train, num_folds, clf_xgb)\n",
    "    #train_mse_ls, valid_mse_ls = cross_validation(X_train, y_train, num_folds, clf_svm)\n",
    "    print(\"----------------------------\")\n",
    "    print(\"CURRENT gamma = \", ga)\n",
    "    print(\"train_mse_ls: \", train_mse_ls)\n",
    "    print(\"valid_mse_ls: \", valid_mse_ls)\n",
    "    print(\"----------------------------\")"
   ]
  },
  {
   "cell_type": "code",
   "execution_count": 15,
   "metadata": {},
   "outputs": [
    {
     "name": "stdout",
     "output_type": "stream",
     "text": [
      "----------------------------\n",
      "CURRENT learning rate =  0.05\n",
      "train_mse_ls:  [1876.3740095217308, 1938.8744356968368, 2043.3710671570286, 2179.0686724024195, 2203.41892056255]\n",
      "valid_mse_ls:  [2952.4607716945343, 3467.944085139743, 2341.193788903668, 1567.2036885838784, 1348.5535040396308]\n",
      "----------------------------\n",
      "----------------------------\n",
      "CURRENT learning rate =  0.1\n",
      "train_mse_ls:  [1544.3575949751637, 1575.895952293231, 1697.9571904337743, 1792.0455162437597, 1836.1766923283544]\n",
      "valid_mse_ls:  [2721.6426134217986, 2707.3529423152245, 2014.7405037666565, 1412.583603882135, 1362.8043829396115]\n",
      "----------------------------\n",
      "----------------------------\n",
      "CURRENT learning rate =  0.15\n",
      "train_mse_ls:  [1369.2463471997983, 1435.7836998225584, 1544.7231377107942, 1624.4913100333943, 1641.7924439376839]\n",
      "valid_mse_ls:  [2531.240395416254, 2602.765342345424, 1926.7980456989321, 1364.0539995139409, 1297.9666736859115]\n",
      "----------------------------\n",
      "----------------------------\n",
      "CURRENT learning rate =  0.2\n",
      "train_mse_ls:  [1290.9062627403414, 1341.1427044500524, 1460.190155900229, 1538.3238557736504, 1520.7856121338036]\n",
      "valid_mse_ls:  [2467.138952542718, 2446.6477252580084, 1875.8546097281219, 1376.0998804698324, 1309.5357518187488]\n",
      "----------------------------\n"
     ]
    }
   ],
   "source": [
    "lrs = [0.05, 0.1, 0.15, 0.2]\n",
    "for lr in lrs:\n",
    "    clf_xgb = XGBRegressor(n_estimators=50, learning_rate=lr, max_depth=3)\n",
    "    num_folds = 5\n",
    "    train_mse_ls, valid_mse_ls = cross_validation(X_train, y_train, num_folds, clf_xgb)\n",
    "    print(\"----------------------------\")\n",
    "    print(\"CURRENT learning rate = \", lr)\n",
    "    print(\"train_mse_ls: \", train_mse_ls)\n",
    "    print(\"valid_mse_ls: \", valid_mse_ls)\n",
    "    print(\"----------------------------\")"
   ]
  },
  {
   "cell_type": "code",
   "execution_count": 9,
   "metadata": {},
   "outputs": [
    {
     "name": "stdout",
     "output_type": "stream",
     "text": [
      "----------------------------\n",
      "train_mse_ls:  [856.7469300385118, 910.6886525038619, 952.6489120810884, 956.9425617375364, 1038.3132877547419]\n",
      "valid_mse_ls:  [2138.6621515994284, 2228.430397462126, 1626.5486092599942, 1324.49519841778, 1329.0374061916757]\n",
      "----------------------------\n"
     ]
    }
   ],
   "source": [
    "clf_xgb = XGBRegressor(n_estimators=200, learning_rate=0.05, max_depth=8, scale_pos_weight=1, gamma=2)\n",
    "num_folds = 5\n",
    "train_mse_ls, valid_mse_ls = cross_validation(X_train, y_train, num_folds, clf_xgb)\n",
    "print(\"----------------------------\")\n",
    "print(\"train_mse_ls: \", train_mse_ls)\n",
    "print(\"valid_mse_ls: \", valid_mse_ls)\n",
    "print(\"----------------------------\")"
   ]
  },
  {
   "cell_type": "code",
   "execution_count": 10,
   "metadata": {},
   "outputs": [
    {
     "name": "stdout",
     "output_type": "stream",
     "text": [
      "----------------------------\n",
      "train_mse_ls:  [732.1884143470472, 772.1921441222973, 818.469324085864, 820.3839879431207, 901.5244603882923]\n",
      "valid_mse_ls:  [2098.9061754286386, 2254.649464986203, 1596.2973036055737, 1444.554176116236, 1392.622885679231]\n",
      "----------------------------\n"
     ]
    }
   ],
   "source": [
    "clf_xgb = XGBRegressor(n_estimators=200, learning_rate=0.05, max_depth=8, scale_pos_weight=1, gamma=2)\n",
    "num_folds = 5\n",
    "train_mse_ls, valid_mse_ls = cross_validation(X_train, y_train, num_folds, clf_xgb)\n",
    "print(\"----------------------------\")\n",
    "print(\"train_mse_ls: \", train_mse_ls)\n",
    "print(\"valid_mse_ls: \", valid_mse_ls)\n",
    "print(\"----------------------------\")"
   ]
  },
  {
   "cell_type": "code",
   "execution_count": 9,
   "metadata": {},
   "outputs": [],
   "source": [
    "number = 16\n",
    "#1(handle <0 values, drop same_val fea) 1765.17651\n",
    "#clf_xgb = XGBRegressor(n_estimators=100, scale_pos_weight=1, learning_rate=0.05, max_depth=9, gamma=0.1)\n",
    "#clf_xgb.fit(X_train_drop, y_train)\n",
    "\n",
    "#2(handle <0 values, drop same_val fea, hanlde -1) 1570.92007\n",
    "#3(no handle <0 values, drop same_val fea, handle -1) 1572.75197\n",
    "#clf_xgb = XGBRegressor(n_estimators=50, scale_pos_weight=1, learning_rate=0.1, max_depth=3)\n",
    "#clf_xgb.fit(X_train_drop, y_train)\n",
    "\n",
    "#4(hanlde <0 values, no drop same_val fea, handle -1) 1543.60717\n",
    "# clf_xgb = XGBRegressor(n_estimators=50, scale_pos_weight=1, learning_rate=0.1, max_depth=3)\n",
    "# clf_xgb.fit(X_train, y_train)\n",
    "\n",
    "#5(hanlde <0 values, no drop same_val fea, handle -1, learning_rate changes) 1562.17963\n",
    "# clf_xgb = XGBRegressor(n_estimators=50, learning_rate=0.2, max_depth=3)\n",
    "# clf_xgb.fit(X_train, y_train)\n",
    "\n",
    "#6(hanlde <0 values as mean value*, no drop same_val fea, handle -1) 1983.79563\n",
    "# clf_xgb = XGBRegressor(n_estimators=50, learning_rate=0.2, max_depth=3)\n",
    "# clf_xgb.fit(X_train, y_train)\n",
    "\n",
    "#7(hanlde <0 values, no drop same_val fea, handle -1, tune params) 1863.01851\n",
    "\n",
    "#8(hanlde <0 values, drop same_val fea, handle -1, tune params as #7) 1863.01851\n",
    "\n",
    "#9(add subsample, others as #8) 1907\n",
    "\n",
    "#10 no drop same, tune params 1682.27579\n",
    "# clf_xgb = XGBRegressor(n_estimators=80, learning_rate=0.2, max_depth=4, scale_pos_weight=1, gamma=1, subsample=0.8)\n",
    "\n",
    "#11 no drop same, drop party_size, nan, < 10 values in result 1570.92007\n",
    "# clf_xgb = XGBRegressor(n_estimators=50, scale_pos_weight=1, learning_rate=0.1, max_depth=3)\n",
    "\n",
    "#12 no drop same, drop party_size, < 10 values in result)1543.60717\n",
    "#clf_xgb = XGBRegressor(n_estimators=50, scale_pos_weight=1, learning_rate=0.1, max_depth=3)\n",
    "\n",
    "#13 no drop same, drop party_size + entering host, < 10 values in result) 1524.65555\n",
    "#clf_xgb = XGBRegressor(n_estimators=50, scale_pos_weight=1, learning_rate=0.1, max_depth=3)\n",
    "\n",
    "#14 drop [\"party_size\",\"entering_host\", \"time_to_confirm\"], no drop same, < 10 values in result 1524.65555\n",
    "#clf_xgb = XGBRegressor(n_estimators=50, scale_pos_weight=1, learning_rate=0.1, max_depth=3)\n",
    "\n",
    "# 15 drop same, above features, < 10, missing nan\n",
    "#clf_xgb = XGBRegressor(n_estimators=50, scale_pos_weight=1, learning_rate=0.1, max_depth=3)\n",
    "\n",
    "# 16 = 15 - nan\n",
    "clf_xgb = XGBRegressor(n_estimators=50, scale_pos_weight=1, learning_rate=0.1, max_depth=3)\n",
    "clf_xgb.fit(X_train_drop_ps, y_train)\n",
    "y_test_pred_raw = clf_xgb.predict(X_test_drop_ps)"
   ]
  },
  {
   "cell_type": "code",
   "execution_count": 10,
   "metadata": {},
   "outputs": [],
   "source": [
    "y_test_pred = []\n",
    "for val in y_test_pred_raw:\n",
    "    if val < 0:\n",
    "        y_test_pred.append(0)\n",
    "    else:\n",
    "        y_test_pred.append(val)"
   ]
  },
  {
   "cell_type": "code",
   "execution_count": 11,
   "metadata": {},
   "outputs": [],
   "source": [
    "pd.DataFrame(np.asarray(y_test_pred), columns=['actual_wait div 60000']).to_csv(str(number) + \".csv\")"
   ]
  },
  {
   "cell_type": "code",
   "execution_count": 19,
   "metadata": {},
   "outputs": [],
   "source": []
  },
  {
   "cell_type": "code",
   "execution_count": null,
   "metadata": {},
   "outputs": [],
   "source": []
  }
 ],
 "metadata": {
  "kernelspec": {
   "display_name": "Python 3",
   "language": "python",
   "name": "python3"
  },
  "language_info": {
   "codemirror_mode": {
    "name": "ipython",
    "version": 3
   },
   "file_extension": ".py",
   "mimetype": "text/x-python",
   "name": "python",
   "nbconvert_exporter": "python",
   "pygments_lexer": "ipython3",
   "version": "3.7.1"
  }
 },
 "nbformat": 4,
 "nbformat_minor": 2
}
